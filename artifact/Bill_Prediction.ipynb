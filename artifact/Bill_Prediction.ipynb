{
 "cells": [
  {
   "cell_type": "markdown",
   "id": "e26679ef-3bd3-4429-9e54-e21f8d3bd7b0",
   "metadata": {},
   "source": [
    "## Import library"
   ]
  },
  {
   "cell_type": "code",
   "execution_count": 3,
   "id": "a56023c5-5ba4-41c8-a847-68f54fa3faa9",
   "metadata": {},
   "outputs": [],
   "source": [
    "import pandas as pd  \n",
    "import matplotlib.pyplot as plt  \n",
    "import numpy as np  \n",
    "import sklearn.metrics as sm  \n",
    "import warnings\n",
    "from sklearn.exceptions import DataConversionWarning\n",
    "from sklearn.preprocessing import StandardScaler\n",
    "\n",
    "# Suppress the warning\n",
    "warnings.filterwarnings(action='ignore', category=DataConversionWarning)"
   ]
  },
  {
   "cell_type": "markdown",
   "id": "0a5434e6-797e-4538-8dc5-63de644f15f6",
   "metadata": {},
   "source": [
    "## Read csv file"
   ]
  },
  {
   "cell_type": "code",
   "execution_count": 2,
   "id": "7a6d1786-4638-43b8-a87e-31b7cfb0dadc",
   "metadata": {},
   "outputs": [
    {
     "ename": "NameError",
     "evalue": "name 'pd' is not defined",
     "output_type": "error",
     "traceback": [
      "\u001b[1;31m---------------------------------------------------------------------------\u001b[0m",
      "\u001b[1;31mNameError\u001b[0m                                 Traceback (most recent call last)",
      "Cell \u001b[1;32mIn[2], line 1\u001b[0m\n\u001b[1;32m----> 1\u001b[0m data_sheet \u001b[38;5;241m=\u001b[39m \u001b[43mpd\u001b[49m\u001b[38;5;241m.\u001b[39mread_csv(\u001b[38;5;124m\"\u001b[39m\u001b[38;5;124mbill_data.csv\u001b[39m\u001b[38;5;124m\"\u001b[39m)\n\u001b[0;32m      2\u001b[0m data_sheet\u001b[38;5;241m.\u001b[39minfo()\n",
      "\u001b[1;31mNameError\u001b[0m: name 'pd' is not defined"
     ]
    }
   ],
   "source": [
    "data_sheet = pd.read_csv(\"bill_data.csv\")\n",
    "data_sheet.info()\n"
   ]
  },
  {
   "cell_type": "markdown",
   "id": "244d78a6-9cfd-4461-b177-ae123f17bf2e",
   "metadata": {},
   "source": [
    "## Encoding"
   ]
  },
  {
   "cell_type": "markdown",
   "id": "6355f800-c524-4b74-9376-25759df8f5a1",
   "metadata": {},
   "source": [
    "## Asigning values for x and y"
   ]
  },
  {
   "cell_type": "code",
   "execution_count": 62,
   "id": "75559d77-ef04-4038-9e24-e2ae5cf9920a",
   "metadata": {},
   "outputs": [
    {
     "data": {
      "text/html": [
       "<div>\n",
       "<style scoped>\n",
       "    .dataframe tbody tr th:only-of-type {\n",
       "        vertical-align: middle;\n",
       "    }\n",
       "\n",
       "    .dataframe tbody tr th {\n",
       "        vertical-align: top;\n",
       "    }\n",
       "\n",
       "    .dataframe thead th {\n",
       "        text-align: right;\n",
       "    }\n",
       "</style>\n",
       "<table border=\"1\" class=\"dataframe\">\n",
       "  <thead>\n",
       "    <tr style=\"text-align: right;\">\n",
       "      <th></th>\n",
       "      <th>Previous Bill (Rs)</th>\n",
       "      <th>Electricity Usage (kWh)</th>\n",
       "      <th>Number of Occupants</th>\n",
       "      <th>Average Temperature (F)</th>\n",
       "      <th>Number of Appliances</th>\n",
       "    </tr>\n",
       "  </thead>\n",
       "  <tbody>\n",
       "    <tr>\n",
       "      <th>0</th>\n",
       "      <td>1400</td>\n",
       "      <td>2800</td>\n",
       "      <td>45</td>\n",
       "      <td>32</td>\n",
       "      <td>25</td>\n",
       "    </tr>\n",
       "    <tr>\n",
       "      <th>1</th>\n",
       "      <td>1450</td>\n",
       "      <td>2900</td>\n",
       "      <td>47</td>\n",
       "      <td>36</td>\n",
       "      <td>26</td>\n",
       "    </tr>\n",
       "    <tr>\n",
       "      <th>2</th>\n",
       "      <td>1500</td>\n",
       "      <td>3100</td>\n",
       "      <td>48</td>\n",
       "      <td>45</td>\n",
       "      <td>28</td>\n",
       "    </tr>\n",
       "    <tr>\n",
       "      <th>3</th>\n",
       "      <td>1550</td>\n",
       "      <td>3200</td>\n",
       "      <td>50</td>\n",
       "      <td>56</td>\n",
       "      <td>30</td>\n",
       "    </tr>\n",
       "    <tr>\n",
       "      <th>4</th>\n",
       "      <td>1600</td>\n",
       "      <td>3300</td>\n",
       "      <td>52</td>\n",
       "      <td>66</td>\n",
       "      <td>32</td>\n",
       "    </tr>\n",
       "  </tbody>\n",
       "</table>\n",
       "</div>"
      ],
      "text/plain": [
       "   Previous Bill (Rs)  Electricity Usage (kWh)  Number of Occupants  \\\n",
       "0                1400                     2800                   45   \n",
       "1                1450                     2900                   47   \n",
       "2                1500                     3100                   48   \n",
       "3                1550                     3200                   50   \n",
       "4                1600                     3300                   52   \n",
       "\n",
       "   Average Temperature (F)  Number of Appliances  \n",
       "0                       32                    25  \n",
       "1                       36                    26  \n",
       "2                       45                    28  \n",
       "3                       56                    30  \n",
       "4                       66                    32  "
      ]
     },
     "execution_count": 62,
     "metadata": {},
     "output_type": "execute_result"
    }
   ],
   "source": [
    "x = data_sheet[['Previous Bill (Rs)', 'Electricity Usage (kWh)', 'Number of Occupants', 'Average Temperature (F)', 'Number of Appliances']]\n",
    "y = data_sheet['Monthly Bill (Rs)']\n",
    "x.head(5)\n",
    "\n"
   ]
  },
  {
   "cell_type": "markdown",
   "id": "f0fffe07-5855-4ad3-bac3-9d6b67ff0836",
   "metadata": {},
   "source": [
    "## Train and test split"
   ]
  },
  {
   "cell_type": "code",
   "execution_count": 63,
   "id": "593be767-ea58-4256-9c4c-87de9c723bb2",
   "metadata": {},
   "outputs": [],
   "source": [
    "from sklearn.model_selection import train_test_split\n",
    "x_train,x_test,y_train,y_test=train_test_split(x,y,test_size=0.2,random_state=41)\n"
   ]
  },
  {
   "cell_type": "code",
   "execution_count": 64,
   "id": "895d7797-d106-4d56-bd99-3184d220c9a6",
   "metadata": {},
   "outputs": [
    {
     "data": {
      "text/plain": [
       "((96, 5), (24, 5))"
      ]
     },
     "execution_count": 64,
     "metadata": {},
     "output_type": "execute_result"
    }
   ],
   "source": [
    "x_train.shape,x_test.shape"
   ]
  },
  {
   "cell_type": "code",
   "execution_count": null,
   "id": "eae8bcab-c338-4b41-9868-54841fff04fd",
   "metadata": {},
   "outputs": [],
   "source": []
  },
  {
   "cell_type": "markdown",
   "id": "f1a5d053-37fb-4b87-a92e-d51dfe3b09b7",
   "metadata": {},
   "source": [
    "## Creating the model and Evaluate the performance"
   ]
  },
  {
   "cell_type": "code",
   "execution_count": 65,
   "id": "6db9b706-ac9e-4767-850f-9d81cffeabee",
   "metadata": {},
   "outputs": [
    {
     "name": "stdout",
     "output_type": "stream",
     "text": [
      "Mean Squared Error: 1.0081263715490025e-24\n",
      "R² Score: 1.0\n"
     ]
    }
   ],
   "source": [
    "from sklearn.linear_model import LinearRegression\n",
    "from sklearn.metrics import mean_squared_error, r2_score\n",
    "from sklearn.preprocessing import StandardScaler\n",
    "import numpy as np\n",
    "\n",
    "# Assuming x_train_scaled, y_train, x_test_scaled, y_test are already defined and scaled\n",
    "\n",
    "# Create a LinearRegression model\n",
    "linear_reg = LinearRegression()\n",
    "\n",
    "# Train the model\n",
    "linear_reg.fit(x_train, y_train)\n",
    "\n",
    "# Make predictions on the test set\n",
    "y_pred = linear_reg.predict(x_test)\n",
    "\n",
    "# Calculate evaluation metrics\n",
    "mse = mean_squared_error(y_test, y_pred)\n",
    "r2 = r2_score(y_test, y_pred)\n",
    "\n",
    "print(f\"Mean Squared Error: {mse}\")\n",
    "print(f\"R² Score: {r2}\")\n",
    "\n",
    "# Optionally, you can print or visualize the predictions versus actual values\n",
    "# print(\"Actual Values:\", y_test)\n",
    "# print(\"Predicted Values:\", y_pred)\n"
   ]
  },
  {
   "cell_type": "markdown",
   "id": "24b8ac66-c3c9-4807-b6ae-2b97e0956d13",
   "metadata": {},
   "source": [
    "## Get predictions"
   ]
  },
  {
   "cell_type": "code",
   "execution_count": 66,
   "id": "6bb79d3e-0a94-4923-b91b-fd0a6d2fb9f6",
   "metadata": {},
   "outputs": [
    {
     "name": "stdout",
     "output_type": "stream",
     "text": [
      "Prediction: [1600.]\n"
     ]
    },
    {
     "name": "stderr",
     "output_type": "stream",
     "text": [
      "C:\\Users\\yasir\\Desktop\\PRO\\Bill_predictions\\venv\\Lib\\site-packages\\sklearn\\base.py:493: UserWarning: X does not have valid feature names, but LinearRegression was fitted with feature names\n",
      "  warnings.warn(\n"
     ]
    }
   ],
   "source": [
    "# New input data\n",
    "new_data = np.array([[1550,3200,50,56,30]])\n",
    "\n",
    "\n",
    "\n",
    "# Make the prediction\n",
    "prediction = linear_reg.predict(new_data)\n",
    "\n",
    "print(\"Prediction:\", prediction)"
   ]
  },
  {
   "cell_type": "code",
   "execution_count": 68,
   "id": "1f401c9a-5299-4cf1-a2d9-6e10d1ce66c5",
   "metadata": {},
   "outputs": [],
   "source": [
    "import pickle\n",
    "# Save the model and the scaler\n",
    "with open('new_model_saved.pkl', 'wb') as model_file:\n",
    "    pickle.dump(linear_reg, model_file)\n",
    "\n"
   ]
  },
  {
   "cell_type": "code",
   "execution_count": null,
   "id": "a7dad1c4-5ec1-47a0-ad9c-e347a72c67bf",
   "metadata": {},
   "outputs": [],
   "source": []
  }
 ],
 "metadata": {
  "kernelspec": {
   "display_name": "Python 3 (ipykernel)",
   "language": "python",
   "name": "python3"
  },
  "language_info": {
   "codemirror_mode": {
    "name": "ipython",
    "version": 3
   },
   "file_extension": ".py",
   "mimetype": "text/x-python",
   "name": "python",
   "nbconvert_exporter": "python",
   "pygments_lexer": "ipython3",
   "version": "3.11.4"
  }
 },
 "nbformat": 4,
 "nbformat_minor": 5
}
